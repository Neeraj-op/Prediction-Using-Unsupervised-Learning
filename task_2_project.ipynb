{
  "nbformat": 4,
  "nbformat_minor": 5,
  "metadata": {
    "kernelspec": {
      "display_name": "Python 3",
      "language": "python",
      "name": "python3"
    },
    "language_info": {
      "codemirror_mode": {
        "name": "ipython",
        "version": 3
      },
      "file_extension": ".py",
      "mimetype": "text/x-python",
      "name": "python",
      "nbconvert_exporter": "python",
      "pygments_lexer": "ipython3",
      "version": "3.9.1"
    },
    "colab": {
      "name": "task_2_project.ipynb",
      "provenance": []
    }
  },
  "cells": [
    {
      "cell_type": "markdown",
      "metadata": {
        "id": "subsequent-cheese"
      },
      "source": [
        "\n",
        "\n",
        "**Task2 : Prediction using Unsupervised ML**"
      ],
      "id": "subsequent-cheese"
    },
    {
      "cell_type": "markdown",
      "metadata": {
        "id": "altered-resort"
      },
      "source": [
        "#### Dataset : Iris.csv (https://bit.ly/3kXTdox)\n",
        "#### Algorithm used here : K-Means Clustering"
      ],
      "id": "altered-resort"
    },
    {
      "cell_type": "markdown",
      "metadata": {
        "id": "collect-century"
      },
      "source": [
        "### Import Libraries "
      ],
      "id": "collect-century"
    },
    {
      "cell_type": "code",
      "metadata": {
        "id": "spatial-amount"
      },
      "source": [
        "import os\n",
        "os.environ[\"MKL_NUM_THREADS\"] = \"1\" \n",
        "os.environ[\"NUMEXPR_NUM_THREADS\"] = \"1\" \n",
        "os.environ[\"OMP_NUM_THREADS\"] = \"1\" \n",
        "import matplotlib.pyplot as plt\n",
        "import pandas as pd\n",
        "import numpy as np\n",
        "\n",
        "from sklearn.datasets import load_iris\n",
        "from sklearn.model_selection import train_test_split\n",
        "from sklearn.preprocessing import StandardScaler\n",
        "\n",
        "from sklearn.cluster import KMeans\n",
        "from sklearn.decomposition import PCA"
      ],
      "id": "spatial-amount",
      "execution_count": null,
      "outputs": []
    },
    {
      "cell_type": "markdown",
      "metadata": {
        "id": "limited-house"
      },
      "source": [
        "### Load Dataset"
      ],
      "id": "limited-house"
    },
    {
      "cell_type": "code",
      "metadata": {
        "id": "worldwide-marijuana",
        "colab": {
          "base_uri": "https://localhost:8080/",
          "height": 402
        },
        "outputId": "43f1b48c-b2aa-4531-b7bf-3084bf7b862a"
      },
      "source": [
        "df=pd.read_csv(\"Iris.csv\")\n",
        "df"
      ],
      "id": "worldwide-marijuana",
      "execution_count": null,
      "outputs": [
        {
          "output_type": "execute_result",
          "data": {
            "text/html": [
              "<div>\n",
              "<style scoped>\n",
              "    .dataframe tbody tr th:only-of-type {\n",
              "        vertical-align: middle;\n",
              "    }\n",
              "\n",
              "    .dataframe tbody tr th {\n",
              "        vertical-align: top;\n",
              "    }\n",
              "\n",
              "    .dataframe thead th {\n",
              "        text-align: right;\n",
              "    }\n",
              "</style>\n",
              "<table border=\"1\" class=\"dataframe\">\n",
              "  <thead>\n",
              "    <tr style=\"text-align: right;\">\n",
              "      <th></th>\n",
              "      <th>Id</th>\n",
              "      <th>SepalLengthCm</th>\n",
              "      <th>SepalWidthCm</th>\n",
              "      <th>PetalLengthCm</th>\n",
              "      <th>PetalWidthCm</th>\n",
              "      <th>Species</th>\n",
              "    </tr>\n",
              "  </thead>\n",
              "  <tbody>\n",
              "    <tr>\n",
              "      <th>0</th>\n",
              "      <td>1</td>\n",
              "      <td>5.1</td>\n",
              "      <td>3.5</td>\n",
              "      <td>1.4</td>\n",
              "      <td>0.2</td>\n",
              "      <td>Iris-setosa</td>\n",
              "    </tr>\n",
              "    <tr>\n",
              "      <th>1</th>\n",
              "      <td>2</td>\n",
              "      <td>4.9</td>\n",
              "      <td>3.0</td>\n",
              "      <td>1.4</td>\n",
              "      <td>0.2</td>\n",
              "      <td>Iris-setosa</td>\n",
              "    </tr>\n",
              "    <tr>\n",
              "      <th>2</th>\n",
              "      <td>3</td>\n",
              "      <td>4.7</td>\n",
              "      <td>3.2</td>\n",
              "      <td>1.3</td>\n",
              "      <td>0.2</td>\n",
              "      <td>Iris-setosa</td>\n",
              "    </tr>\n",
              "    <tr>\n",
              "      <th>3</th>\n",
              "      <td>4</td>\n",
              "      <td>4.6</td>\n",
              "      <td>3.1</td>\n",
              "      <td>1.5</td>\n",
              "      <td>0.2</td>\n",
              "      <td>Iris-setosa</td>\n",
              "    </tr>\n",
              "    <tr>\n",
              "      <th>4</th>\n",
              "      <td>5</td>\n",
              "      <td>5.0</td>\n",
              "      <td>3.6</td>\n",
              "      <td>1.4</td>\n",
              "      <td>0.2</td>\n",
              "      <td>Iris-setosa</td>\n",
              "    </tr>\n",
              "    <tr>\n",
              "      <th>...</th>\n",
              "      <td>...</td>\n",
              "      <td>...</td>\n",
              "      <td>...</td>\n",
              "      <td>...</td>\n",
              "      <td>...</td>\n",
              "      <td>...</td>\n",
              "    </tr>\n",
              "    <tr>\n",
              "      <th>145</th>\n",
              "      <td>146</td>\n",
              "      <td>6.7</td>\n",
              "      <td>3.0</td>\n",
              "      <td>5.2</td>\n",
              "      <td>2.3</td>\n",
              "      <td>Iris-virginica</td>\n",
              "    </tr>\n",
              "    <tr>\n",
              "      <th>146</th>\n",
              "      <td>147</td>\n",
              "      <td>6.3</td>\n",
              "      <td>2.5</td>\n",
              "      <td>5.0</td>\n",
              "      <td>1.9</td>\n",
              "      <td>Iris-virginica</td>\n",
              "    </tr>\n",
              "    <tr>\n",
              "      <th>147</th>\n",
              "      <td>148</td>\n",
              "      <td>6.5</td>\n",
              "      <td>3.0</td>\n",
              "      <td>5.2</td>\n",
              "      <td>2.0</td>\n",
              "      <td>Iris-virginica</td>\n",
              "    </tr>\n",
              "    <tr>\n",
              "      <th>148</th>\n",
              "      <td>149</td>\n",
              "      <td>6.2</td>\n",
              "      <td>3.4</td>\n",
              "      <td>5.4</td>\n",
              "      <td>2.3</td>\n",
              "      <td>Iris-virginica</td>\n",
              "    </tr>\n",
              "    <tr>\n",
              "      <th>149</th>\n",
              "      <td>150</td>\n",
              "      <td>5.9</td>\n",
              "      <td>3.0</td>\n",
              "      <td>5.1</td>\n",
              "      <td>1.8</td>\n",
              "      <td>Iris-virginica</td>\n",
              "    </tr>\n",
              "  </tbody>\n",
              "</table>\n",
              "<p>150 rows × 6 columns</p>\n",
              "</div>"
            ],
            "text/plain": [
              "      Id  SepalLengthCm  ...  PetalWidthCm         Species\n",
              "0      1            5.1  ...           0.2     Iris-setosa\n",
              "1      2            4.9  ...           0.2     Iris-setosa\n",
              "2      3            4.7  ...           0.2     Iris-setosa\n",
              "3      4            4.6  ...           0.2     Iris-setosa\n",
              "4      5            5.0  ...           0.2     Iris-setosa\n",
              "..   ...            ...  ...           ...             ...\n",
              "145  146            6.7  ...           2.3  Iris-virginica\n",
              "146  147            6.3  ...           1.9  Iris-virginica\n",
              "147  148            6.5  ...           2.0  Iris-virginica\n",
              "148  149            6.2  ...           2.3  Iris-virginica\n",
              "149  150            5.9  ...           1.8  Iris-virginica\n",
              "\n",
              "[150 rows x 6 columns]"
            ]
          },
          "metadata": {
            "tags": []
          },
          "execution_count": 4
        }
      ]
    },
    {
      "cell_type": "code",
      "metadata": {
        "id": "advanced-proposal",
        "colab": {
          "base_uri": "https://localhost:8080/"
        },
        "outputId": "a3688232-f119-4b75-fac7-57121edce4b0"
      },
      "source": [
        "df.info()"
      ],
      "id": "advanced-proposal",
      "execution_count": null,
      "outputs": [
        {
          "output_type": "stream",
          "text": [
            "<class 'pandas.core.frame.DataFrame'>\n",
            "RangeIndex: 150 entries, 0 to 149\n",
            "Data columns (total 6 columns):\n",
            " #   Column         Non-Null Count  Dtype  \n",
            "---  ------         --------------  -----  \n",
            " 0   Id             150 non-null    int64  \n",
            " 1   SepalLengthCm  150 non-null    float64\n",
            " 2   SepalWidthCm   150 non-null    float64\n",
            " 3   PetalLengthCm  150 non-null    float64\n",
            " 4   PetalWidthCm   150 non-null    float64\n",
            " 5   Species        150 non-null    object \n",
            "dtypes: float64(4), int64(1), object(1)\n",
            "memory usage: 7.2+ KB\n"
          ],
          "name": "stdout"
        }
      ]
    },
    {
      "cell_type": "markdown",
      "metadata": {
        "id": "crucial-effectiveness"
      },
      "source": [
        "### Arrange Data into Feature Matrix"
      ],
      "id": "crucial-effectiveness"
    },
    {
      "cell_type": "code",
      "metadata": {
        "id": "broad-distance"
      },
      "source": [
        "features = ['PetalLengthCm','PetalWidthCm']\n",
        "\n",
        "# Create features matrix\n",
        "x = df.loc[:, features].values"
      ],
      "id": "broad-distance",
      "execution_count": null,
      "outputs": []
    },
    {
      "cell_type": "code",
      "metadata": {
        "id": "czech-monthly",
        "colab": {
          "base_uri": "https://localhost:8080/"
        },
        "outputId": "7673289a-e31a-4db0-b187-bf9afeaf9fa1"
      },
      "source": [
        "x"
      ],
      "id": "czech-monthly",
      "execution_count": null,
      "outputs": [
        {
          "output_type": "execute_result",
          "data": {
            "text/plain": [
              "array([[1.4, 0.2],\n",
              "       [1.4, 0.2],\n",
              "       [1.3, 0.2],\n",
              "       [1.5, 0.2],\n",
              "       [1.4, 0.2],\n",
              "       [1.7, 0.4],\n",
              "       [1.4, 0.3],\n",
              "       [1.5, 0.2],\n",
              "       [1.4, 0.2],\n",
              "       [1.5, 0.1],\n",
              "       [1.5, 0.2],\n",
              "       [1.6, 0.2],\n",
              "       [1.4, 0.1],\n",
              "       [1.1, 0.1],\n",
              "       [1.2, 0.2],\n",
              "       [1.5, 0.4],\n",
              "       [1.3, 0.4],\n",
              "       [1.4, 0.3],\n",
              "       [1.7, 0.3],\n",
              "       [1.5, 0.3],\n",
              "       [1.7, 0.2],\n",
              "       [1.5, 0.4],\n",
              "       [1. , 0.2],\n",
              "       [1.7, 0.5],\n",
              "       [1.9, 0.2],\n",
              "       [1.6, 0.2],\n",
              "       [1.6, 0.4],\n",
              "       [1.5, 0.2],\n",
              "       [1.4, 0.2],\n",
              "       [1.6, 0.2],\n",
              "       [1.6, 0.2],\n",
              "       [1.5, 0.4],\n",
              "       [1.5, 0.1],\n",
              "       [1.4, 0.2],\n",
              "       [1.5, 0.1],\n",
              "       [1.2, 0.2],\n",
              "       [1.3, 0.2],\n",
              "       [1.5, 0.1],\n",
              "       [1.3, 0.2],\n",
              "       [1.5, 0.2],\n",
              "       [1.3, 0.3],\n",
              "       [1.3, 0.3],\n",
              "       [1.3, 0.2],\n",
              "       [1.6, 0.6],\n",
              "       [1.9, 0.4],\n",
              "       [1.4, 0.3],\n",
              "       [1.6, 0.2],\n",
              "       [1.4, 0.2],\n",
              "       [1.5, 0.2],\n",
              "       [1.4, 0.2],\n",
              "       [4.7, 1.4],\n",
              "       [4.5, 1.5],\n",
              "       [4.9, 1.5],\n",
              "       [4. , 1.3],\n",
              "       [4.6, 1.5],\n",
              "       [4.5, 1.3],\n",
              "       [4.7, 1.6],\n",
              "       [3.3, 1. ],\n",
              "       [4.6, 1.3],\n",
              "       [3.9, 1.4],\n",
              "       [3.5, 1. ],\n",
              "       [4.2, 1.5],\n",
              "       [4. , 1. ],\n",
              "       [4.7, 1.4],\n",
              "       [3.6, 1.3],\n",
              "       [4.4, 1.4],\n",
              "       [4.5, 1.5],\n",
              "       [4.1, 1. ],\n",
              "       [4.5, 1.5],\n",
              "       [3.9, 1.1],\n",
              "       [4.8, 1.8],\n",
              "       [4. , 1.3],\n",
              "       [4.9, 1.5],\n",
              "       [4.7, 1.2],\n",
              "       [4.3, 1.3],\n",
              "       [4.4, 1.4],\n",
              "       [4.8, 1.4],\n",
              "       [5. , 1.7],\n",
              "       [4.5, 1.5],\n",
              "       [3.5, 1. ],\n",
              "       [3.8, 1.1],\n",
              "       [3.7, 1. ],\n",
              "       [3.9, 1.2],\n",
              "       [5.1, 1.6],\n",
              "       [4.5, 1.5],\n",
              "       [4.5, 1.6],\n",
              "       [4.7, 1.5],\n",
              "       [4.4, 1.3],\n",
              "       [4.1, 1.3],\n",
              "       [4. , 1.3],\n",
              "       [4.4, 1.2],\n",
              "       [4.6, 1.4],\n",
              "       [4. , 1.2],\n",
              "       [3.3, 1. ],\n",
              "       [4.2, 1.3],\n",
              "       [4.2, 1.2],\n",
              "       [4.2, 1.3],\n",
              "       [4.3, 1.3],\n",
              "       [3. , 1.1],\n",
              "       [4.1, 1.3],\n",
              "       [6. , 2.5],\n",
              "       [5.1, 1.9],\n",
              "       [5.9, 2.1],\n",
              "       [5.6, 1.8],\n",
              "       [5.8, 2.2],\n",
              "       [6.6, 2.1],\n",
              "       [4.5, 1.7],\n",
              "       [6.3, 1.8],\n",
              "       [5.8, 1.8],\n",
              "       [6.1, 2.5],\n",
              "       [5.1, 2. ],\n",
              "       [5.3, 1.9],\n",
              "       [5.5, 2.1],\n",
              "       [5. , 2. ],\n",
              "       [5.1, 2.4],\n",
              "       [5.3, 2.3],\n",
              "       [5.5, 1.8],\n",
              "       [6.7, 2.2],\n",
              "       [6.9, 2.3],\n",
              "       [5. , 1.5],\n",
              "       [5.7, 2.3],\n",
              "       [4.9, 2. ],\n",
              "       [6.7, 2. ],\n",
              "       [4.9, 1.8],\n",
              "       [5.7, 2.1],\n",
              "       [6. , 1.8],\n",
              "       [4.8, 1.8],\n",
              "       [4.9, 1.8],\n",
              "       [5.6, 2.1],\n",
              "       [5.8, 1.6],\n",
              "       [6.1, 1.9],\n",
              "       [6.4, 2. ],\n",
              "       [5.6, 2.2],\n",
              "       [5.1, 1.5],\n",
              "       [5.6, 1.4],\n",
              "       [6.1, 2.3],\n",
              "       [5.6, 2.4],\n",
              "       [5.5, 1.8],\n",
              "       [4.8, 1.8],\n",
              "       [5.4, 2.1],\n",
              "       [5.6, 2.4],\n",
              "       [5.1, 2.3],\n",
              "       [5.1, 1.9],\n",
              "       [5.9, 2.3],\n",
              "       [5.7, 2.5],\n",
              "       [5.2, 2.3],\n",
              "       [5. , 1.9],\n",
              "       [5.2, 2. ],\n",
              "       [5.4, 2.3],\n",
              "       [5.1, 1.8]])"
            ]
          },
          "metadata": {
            "tags": []
          },
          "execution_count": 7
        }
      ]
    },
    {
      "cell_type": "code",
      "metadata": {
        "id": "referenced-sending"
      },
      "source": [
        "from sklearn import preprocessing\n",
        "le=preprocessing.LabelEncoder()"
      ],
      "id": "referenced-sending",
      "execution_count": null,
      "outputs": []
    },
    {
      "cell_type": "code",
      "metadata": {
        "id": "quality-water",
        "colab": {
          "base_uri": "https://localhost:8080/"
        },
        "outputId": "be5dc98e-aff0-4e90-9e0c-31434648d6a5"
      },
      "source": [
        "df.Species=le.fit_transform(df.Species.values)\n",
        "df.Species"
      ],
      "id": "quality-water",
      "execution_count": null,
      "outputs": [
        {
          "output_type": "execute_result",
          "data": {
            "text/plain": [
              "0      0\n",
              "1      0\n",
              "2      0\n",
              "3      0\n",
              "4      0\n",
              "      ..\n",
              "145    2\n",
              "146    2\n",
              "147    2\n",
              "148    2\n",
              "149    2\n",
              "Name: Species, Length: 150, dtype: int64"
            ]
          },
          "metadata": {
            "tags": []
          },
          "execution_count": 9
        }
      ]
    },
    {
      "cell_type": "code",
      "metadata": {
        "id": "ethical-choice",
        "colab": {
          "base_uri": "https://localhost:8080/"
        },
        "outputId": "bcdcaaeb-4381-4ada-ab9a-d63c6497c8c4"
      },
      "source": [
        "df['Species'].unique()"
      ],
      "id": "ethical-choice",
      "execution_count": null,
      "outputs": [
        {
          "output_type": "execute_result",
          "data": {
            "text/plain": [
              "array([0, 1, 2])"
            ]
          },
          "metadata": {
            "tags": []
          },
          "execution_count": 10
        }
      ]
    },
    {
      "cell_type": "code",
      "metadata": {
        "id": "ethical-shipping",
        "colab": {
          "base_uri": "https://localhost:8080/"
        },
        "outputId": "a9fe39ce-afe2-4b9b-fb5f-ca41edca1354"
      },
      "source": [
        "y=df.Species\n",
        "y"
      ],
      "id": "ethical-shipping",
      "execution_count": null,
      "outputs": [
        {
          "output_type": "execute_result",
          "data": {
            "text/plain": [
              "0      0\n",
              "1      0\n",
              "2      0\n",
              "3      0\n",
              "4      0\n",
              "      ..\n",
              "145    2\n",
              "146    2\n",
              "147    2\n",
              "148    2\n",
              "149    2\n",
              "Name: Species, Length: 150, dtype: int64"
            ]
          },
          "metadata": {
            "tags": []
          },
          "execution_count": 11
        }
      ]
    },
    {
      "cell_type": "markdown",
      "metadata": {
        "id": "professional-turtle"
      },
      "source": [
        "### Standardize the data"
      ],
      "id": "professional-turtle"
    },
    {
      "cell_type": "code",
      "metadata": {
        "id": "short-stock",
        "colab": {
          "base_uri": "https://localhost:8080/"
        },
        "outputId": "4c61ffe9-11c2-4726-92a2-e61b3eef1ed1"
      },
      "source": [
        "x=StandardScaler().fit_transform(x)\n",
        "x"
      ],
      "id": "short-stock",
      "execution_count": null,
      "outputs": [
        {
          "output_type": "execute_result",
          "data": {
            "text/plain": [
              "array([[-1.34127240e+00, -1.31297673e+00],\n",
              "       [-1.34127240e+00, -1.31297673e+00],\n",
              "       [-1.39813811e+00, -1.31297673e+00],\n",
              "       [-1.28440670e+00, -1.31297673e+00],\n",
              "       [-1.34127240e+00, -1.31297673e+00],\n",
              "       [-1.17067529e+00, -1.05003079e+00],\n",
              "       [-1.34127240e+00, -1.18150376e+00],\n",
              "       [-1.28440670e+00, -1.31297673e+00],\n",
              "       [-1.34127240e+00, -1.31297673e+00],\n",
              "       [-1.28440670e+00, -1.44444970e+00],\n",
              "       [-1.28440670e+00, -1.31297673e+00],\n",
              "       [-1.22754100e+00, -1.31297673e+00],\n",
              "       [-1.34127240e+00, -1.44444970e+00],\n",
              "       [-1.51186952e+00, -1.44444970e+00],\n",
              "       [-1.45500381e+00, -1.31297673e+00],\n",
              "       [-1.28440670e+00, -1.05003079e+00],\n",
              "       [-1.39813811e+00, -1.05003079e+00],\n",
              "       [-1.34127240e+00, -1.18150376e+00],\n",
              "       [-1.17067529e+00, -1.18150376e+00],\n",
              "       [-1.28440670e+00, -1.18150376e+00],\n",
              "       [-1.17067529e+00, -1.31297673e+00],\n",
              "       [-1.28440670e+00, -1.05003079e+00],\n",
              "       [-1.56873522e+00, -1.31297673e+00],\n",
              "       [-1.17067529e+00, -9.18557817e-01],\n",
              "       [-1.05694388e+00, -1.31297673e+00],\n",
              "       [-1.22754100e+00, -1.31297673e+00],\n",
              "       [-1.22754100e+00, -1.05003079e+00],\n",
              "       [-1.28440670e+00, -1.31297673e+00],\n",
              "       [-1.34127240e+00, -1.31297673e+00],\n",
              "       [-1.22754100e+00, -1.31297673e+00],\n",
              "       [-1.22754100e+00, -1.31297673e+00],\n",
              "       [-1.28440670e+00, -1.05003079e+00],\n",
              "       [-1.28440670e+00, -1.44444970e+00],\n",
              "       [-1.34127240e+00, -1.31297673e+00],\n",
              "       [-1.28440670e+00, -1.44444970e+00],\n",
              "       [-1.45500381e+00, -1.31297673e+00],\n",
              "       [-1.39813811e+00, -1.31297673e+00],\n",
              "       [-1.28440670e+00, -1.44444970e+00],\n",
              "       [-1.39813811e+00, -1.31297673e+00],\n",
              "       [-1.28440670e+00, -1.31297673e+00],\n",
              "       [-1.39813811e+00, -1.18150376e+00],\n",
              "       [-1.39813811e+00, -1.18150376e+00],\n",
              "       [-1.39813811e+00, -1.31297673e+00],\n",
              "       [-1.22754100e+00, -7.87084847e-01],\n",
              "       [-1.05694388e+00, -1.05003079e+00],\n",
              "       [-1.34127240e+00, -1.18150376e+00],\n",
              "       [-1.22754100e+00, -1.31297673e+00],\n",
              "       [-1.34127240e+00, -1.31297673e+00],\n",
              "       [-1.28440670e+00, -1.31297673e+00],\n",
              "       [-1.34127240e+00, -1.31297673e+00],\n",
              "       [ 5.35295827e-01,  2.64698913e-01],\n",
              "       [ 4.21564419e-01,  3.96171883e-01],\n",
              "       [ 6.49027235e-01,  3.96171883e-01],\n",
              "       [ 1.37235899e-01,  1.33225943e-01],\n",
              "       [ 4.78430123e-01,  3.96171883e-01],\n",
              "       [ 4.21564419e-01,  1.33225943e-01],\n",
              "       [ 5.35295827e-01,  5.27644853e-01],\n",
              "       [-2.60824029e-01, -2.61192967e-01],\n",
              "       [ 4.78430123e-01,  1.33225943e-01],\n",
              "       [ 8.03701950e-02,  2.64698913e-01],\n",
              "       [-1.47092621e-01, -2.61192967e-01],\n",
              "       [ 2.50967307e-01,  3.96171883e-01],\n",
              "       [ 1.37235899e-01, -2.61192967e-01],\n",
              "       [ 5.35295827e-01,  2.64698913e-01],\n",
              "       [-9.02269170e-02,  1.33225943e-01],\n",
              "       [ 3.64698715e-01,  2.64698913e-01],\n",
              "       [ 4.21564419e-01,  3.96171883e-01],\n",
              "       [ 1.94101603e-01, -2.61192967e-01],\n",
              "       [ 4.21564419e-01,  3.96171883e-01],\n",
              "       [ 8.03701950e-02, -1.29719997e-01],\n",
              "       [ 5.92161531e-01,  7.90590793e-01],\n",
              "       [ 1.37235899e-01,  1.33225943e-01],\n",
              "       [ 6.49027235e-01,  3.96171883e-01],\n",
              "       [ 5.35295827e-01,  1.75297293e-03],\n",
              "       [ 3.07833011e-01,  1.33225943e-01],\n",
              "       [ 3.64698715e-01,  2.64698913e-01],\n",
              "       [ 5.92161531e-01,  2.64698913e-01],\n",
              "       [ 7.05892939e-01,  6.59117823e-01],\n",
              "       [ 4.21564419e-01,  3.96171883e-01],\n",
              "       [-1.47092621e-01, -2.61192967e-01],\n",
              "       [ 2.35044910e-02, -1.29719997e-01],\n",
              "       [-3.33612130e-02, -2.61192967e-01],\n",
              "       [ 8.03701950e-02,  1.75297293e-03],\n",
              "       [ 7.62758643e-01,  5.27644853e-01],\n",
              "       [ 4.21564419e-01,  3.96171883e-01],\n",
              "       [ 4.21564419e-01,  5.27644853e-01],\n",
              "       [ 5.35295827e-01,  3.96171883e-01],\n",
              "       [ 3.64698715e-01,  1.33225943e-01],\n",
              "       [ 1.94101603e-01,  1.33225943e-01],\n",
              "       [ 1.37235899e-01,  1.33225943e-01],\n",
              "       [ 3.64698715e-01,  1.75297293e-03],\n",
              "       [ 4.78430123e-01,  2.64698913e-01],\n",
              "       [ 1.37235899e-01,  1.75297293e-03],\n",
              "       [-2.60824029e-01, -2.61192967e-01],\n",
              "       [ 2.50967307e-01,  1.33225943e-01],\n",
              "       [ 2.50967307e-01,  1.75297293e-03],\n",
              "       [ 2.50967307e-01,  1.33225943e-01],\n",
              "       [ 3.07833011e-01,  1.33225943e-01],\n",
              "       [-4.31421141e-01, -1.29719997e-01],\n",
              "       [ 1.94101603e-01,  1.33225943e-01],\n",
              "       [ 1.27454998e+00,  1.71090158e+00],\n",
              "       [ 7.62758643e-01,  9.22063763e-01],\n",
              "       [ 1.21768427e+00,  1.18500970e+00],\n",
              "       [ 1.04708716e+00,  7.90590793e-01],\n",
              "       [ 1.16081857e+00,  1.31648267e+00],\n",
              "       [ 1.61574420e+00,  1.18500970e+00],\n",
              "       [ 4.21564419e-01,  6.59117823e-01],\n",
              "       [ 1.44514709e+00,  7.90590793e-01],\n",
              "       [ 1.16081857e+00,  7.90590793e-01],\n",
              "       [ 1.33141568e+00,  1.71090158e+00],\n",
              "       [ 7.62758643e-01,  1.05353673e+00],\n",
              "       [ 8.76490051e-01,  9.22063763e-01],\n",
              "       [ 9.90221459e-01,  1.18500970e+00],\n",
              "       [ 7.05892939e-01,  1.05353673e+00],\n",
              "       [ 7.62758643e-01,  1.57942861e+00],\n",
              "       [ 8.76490051e-01,  1.44795564e+00],\n",
              "       [ 9.90221459e-01,  7.90590793e-01],\n",
              "       [ 1.67260991e+00,  1.31648267e+00],\n",
              "       [ 1.78634131e+00,  1.44795564e+00],\n",
              "       [ 7.05892939e-01,  3.96171883e-01],\n",
              "       [ 1.10395287e+00,  1.44795564e+00],\n",
              "       [ 6.49027235e-01,  1.05353673e+00],\n",
              "       [ 1.67260991e+00,  1.05353673e+00],\n",
              "       [ 6.49027235e-01,  7.90590793e-01],\n",
              "       [ 1.10395287e+00,  1.18500970e+00],\n",
              "       [ 1.27454998e+00,  7.90590793e-01],\n",
              "       [ 5.92161531e-01,  7.90590793e-01],\n",
              "       [ 6.49027235e-01,  7.90590793e-01],\n",
              "       [ 1.04708716e+00,  1.18500970e+00],\n",
              "       [ 1.16081857e+00,  5.27644853e-01],\n",
              "       [ 1.33141568e+00,  9.22063763e-01],\n",
              "       [ 1.50201279e+00,  1.05353673e+00],\n",
              "       [ 1.04708716e+00,  1.31648267e+00],\n",
              "       [ 7.62758643e-01,  3.96171883e-01],\n",
              "       [ 1.04708716e+00,  2.64698913e-01],\n",
              "       [ 1.33141568e+00,  1.44795564e+00],\n",
              "       [ 1.04708716e+00,  1.57942861e+00],\n",
              "       [ 9.90221459e-01,  7.90590793e-01],\n",
              "       [ 5.92161531e-01,  7.90590793e-01],\n",
              "       [ 9.33355755e-01,  1.18500970e+00],\n",
              "       [ 1.04708716e+00,  1.57942861e+00],\n",
              "       [ 7.62758643e-01,  1.44795564e+00],\n",
              "       [ 7.62758643e-01,  9.22063763e-01],\n",
              "       [ 1.21768427e+00,  1.44795564e+00],\n",
              "       [ 1.10395287e+00,  1.71090158e+00],\n",
              "       [ 8.19624347e-01,  1.44795564e+00],\n",
              "       [ 7.05892939e-01,  9.22063763e-01],\n",
              "       [ 8.19624347e-01,  1.05353673e+00],\n",
              "       [ 9.33355755e-01,  1.44795564e+00],\n",
              "       [ 7.62758643e-01,  7.90590793e-01]])"
            ]
          },
          "metadata": {
            "tags": []
          },
          "execution_count": 12
        }
      ]
    },
    {
      "cell_type": "markdown",
      "metadata": {
        "id": "private-winter"
      },
      "source": [
        "### Plot data to estimate number of clusters"
      ],
      "id": "private-winter"
    },
    {
      "cell_type": "code",
      "metadata": {
        "id": "capital-montreal",
        "colab": {
          "base_uri": "https://localhost:8080/",
          "height": 421
        },
        "outputId": "01fb88c3-becb-4e06-b0f2-4f1a2faa5305"
      },
      "source": [
        "X=pd.DataFrame(x,columns=features)\n",
        "plt.figure(figsize=(6,6))\n",
        "plt.scatter(X['PetalLengthCm'], X['PetalWidthCm'])\n",
        "plt.xlabel('petal length (cm)')\n",
        "plt.ylabel('petal width (cm)');\n",
        "plt.title('K-Means Clustering')"
      ],
      "id": "capital-montreal",
      "execution_count": null,
      "outputs": [
        {
          "output_type": "execute_result",
          "data": {
            "text/plain": [
              "Text(0.5, 1.0, 'K-Means Clustering')"
            ]
          },
          "metadata": {
            "tags": []
          },
          "execution_count": 13
        },
        {
          "output_type": "display_data",
          "data": {
            "image/png": "[encoded data removed]",
            "text/plain": [
              "<Figure size 432x432 with 1 Axes>"
            ]
          },
          "metadata": {
            "tags": [],
            "needs_background": "light"
          }
        }
      ]
    },
    {
      "cell_type": "markdown",
      "metadata": {
        "id": "suspected-transport"
      },
      "source": [
        "### Finding the optimum number of clusters for K-means clustering"
      ],
      "id": "suspected-transport"
    },
    {
      "cell_type": "code",
      "metadata": {
        "id": "known-organizer"
      },
      "source": [
        "wcss = []\n",
        "\n",
        "for i in range(1, 11):\n",
        "    kmeans = KMeans(n_clusters = i, init = 'k-means++', \n",
        "                    max_iter = 300, n_init = 10, random_state = 0)\n",
        "    kmeans.fit(x)\n",
        "    wcss.append(kmeans.inertia_)"
      ],
      "id": "known-organizer",
      "execution_count": null,
      "outputs": []
    },
    {
      "cell_type": "code",
      "metadata": {
        "id": "increasing-measurement",
        "colab": {
          "base_uri": "https://localhost:8080/",
          "height": 295
        },
        "outputId": "3c9b5ce0-401d-48bc-e07e-20f57e31c033"
      },
      "source": [
        "# Plotting the results onto a line graph, \n",
        "# `allowing us to observe 'The elbow'\n",
        "plt.plot(range(1, 11), wcss)\n",
        "plt.title('The elbow method')\n",
        "plt.xlabel('Number of clusters')\n",
        "plt.ylabel('WCSS') # Within cluster sum of squares\n",
        "plt.show()"
      ],
      "id": "increasing-measurement",
      "execution_count": null,
      "outputs": [
        {
          "output_type": "display_data",
          "data": {
            "image/png": "[encoded data removed]",
            "text/plain": [
              "<Figure size 432x288 with 1 Axes>"
            ]
          },
          "metadata": {
            "tags": [],
            "needs_background": "light"
          }
        }
      ]
    },
    {
      "cell_type": "markdown",
      "metadata": {
        "id": "characteristic-hours"
      },
      "source": [
        "### K-Means Clustering "
      ],
      "id": "characteristic-hours"
    },
    {
      "cell_type": "code",
      "metadata": {
        "id": "corporate-bandwidth",
        "colab": {
          "base_uri": "https://localhost:8080/"
        },
        "outputId": "353053ea-d728-48db-f9a7-a88035432c42"
      },
      "source": [
        "# Make an instance of KMeans with 3 clusters\n",
        "kmeans = KMeans(n_clusters=3, random_state=1)\n",
        "\n",
        "# Fit only on a features matrix\n",
        "kmeans.fit(x)"
      ],
      "id": "corporate-bandwidth",
      "execution_count": null,
      "outputs": [
        {
          "output_type": "execute_result",
          "data": {
            "text/plain": [
              "KMeans(algorithm='auto', copy_x=True, init='k-means++', max_iter=300,\n",
              "       n_clusters=3, n_init=10, n_jobs=None, precompute_distances='auto',\n",
              "       random_state=1, tol=0.0001, verbose=0)"
            ]
          },
          "metadata": {
            "tags": []
          },
          "execution_count": 16
        }
      ]
    },
    {
      "cell_type": "code",
      "metadata": {
        "id": "comparable-statement"
      },
      "source": [
        "# Get labels and cluster centroids\n",
        "labels = kmeans.labels_\n",
        "centroids = kmeans.cluster_centers_"
      ],
      "id": "comparable-statement",
      "execution_count": null,
      "outputs": []
    },
    {
      "cell_type": "code",
      "metadata": {
        "id": "pleased-attack",
        "colab": {
          "base_uri": "https://localhost:8080/"
        },
        "outputId": "e030e2f6-0b7e-4fdf-a59d-9b41e13bb84f"
      },
      "source": [
        "labels"
      ],
      "id": "pleased-attack",
      "execution_count": null,
      "outputs": [
        {
          "output_type": "execute_result",
          "data": {
            "text/plain": [
              "array([1, 1, 1, 1, 1, 1, 1, 1, 1, 1, 1, 1, 1, 1, 1, 1, 1, 1, 1, 1, 1, 1,\n",
              "       1, 1, 1, 1, 1, 1, 1, 1, 1, 1, 1, 1, 1, 1, 1, 1, 1, 1, 1, 1, 1, 1,\n",
              "       1, 1, 1, 1, 1, 1, 2, 2, 2, 2, 2, 2, 2, 2, 2, 2, 2, 2, 2, 2, 2, 2,\n",
              "       2, 2, 2, 2, 0, 2, 2, 2, 2, 2, 2, 0, 2, 2, 2, 2, 2, 2, 2, 2, 2, 2,\n",
              "       2, 2, 2, 2, 2, 2, 2, 2, 2, 2, 2, 2, 0, 0, 0, 0, 0, 0, 2, 0, 0, 0,\n",
              "       0, 0, 0, 0, 0, 0, 0, 0, 0, 2, 0, 0, 0, 0, 0, 0, 0, 0, 0, 0, 0, 0,\n",
              "       0, 2, 2, 0, 0, 0, 0, 0, 0, 0, 0, 0, 0, 0, 0, 0, 0, 0], dtype=int32)"
            ]
          },
          "metadata": {
            "tags": []
          },
          "execution_count": 18
        }
      ]
    },
    {
      "cell_type": "code",
      "metadata": {
        "id": "combined-feedback",
        "colab": {
          "base_uri": "https://localhost:8080/"
        },
        "outputId": "619ebc61-d55d-4a77-a014-2684197287d8"
      },
      "source": [
        "centroids"
      ],
      "id": "combined-feedback",
      "execution_count": null,
      "outputs": [
        {
          "output_type": "execute_result",
          "data": {
            "text/plain": [
              "array([[ 1.02813193,  1.12749028],\n",
              "       [-1.30487835, -1.25512862],\n",
              "       [ 0.30564587,  0.16609419]])"
            ]
          },
          "metadata": {
            "tags": []
          },
          "execution_count": 19
        }
      ]
    },
    {
      "cell_type": "markdown",
      "metadata": {
        "id": "automated-nerve"
      },
      "source": [
        "### Visually Evaluate the clusters"
      ],
      "id": "automated-nerve"
    },
    {
      "cell_type": "code",
      "metadata": {
        "id": "naval-concentrate",
        "colab": {
          "base_uri": "https://localhost:8080/",
          "height": 279
        },
        "outputId": "56160997-bade-4f9d-ac7e-111ead530faf"
      },
      "source": [
        "colormap = np.array(['r', 'g', 'b'])\n",
        "plt.scatter(X['PetalLengthCm'], X['PetalWidthCm'], c=colormap[labels])\n",
        "plt.scatter(centroids[:,0], centroids[:,1], s = 300, marker = 'x', c = 'k')\n",
        "\n",
        "plt.xlabel('petal length (cm)')\n",
        "plt.ylabel('petal width (cm)');"
      ],
      "id": "naval-concentrate",
      "execution_count": null,
      "outputs": [
        {
          "output_type": "display_data",
          "data": {
            "image/png": "[encoded data removed]",
            "text/plain": [
              "<Figure size 432x288 with 1 Axes>"
            ]
          },
          "metadata": {
            "tags": [],
            "needs_background": "light"
          }
        }
      ]
    },
    {
      "cell_type": "markdown",
      "metadata": {
        "id": "aware-riding"
      },
      "source": [
        "### Visually Evaluate the clusters and compare the species"
      ],
      "id": "aware-riding"
    },
    {
      "cell_type": "code",
      "metadata": {
        "id": "loving-workshop",
        "colab": {
          "base_uri": "https://localhost:8080/",
          "height": 297
        },
        "outputId": "53f4c824-a005-4116-ec32-583aae70aadd"
      },
      "source": [
        "plt.figure(figsize=(10,4))\n",
        "\n",
        "plt.subplot(1, 2, 1)\n",
        "plt.scatter(X['PetalLengthCm'], X['PetalWidthCm'], c=colormap[labels])\n",
        "plt.scatter(centroids[:,0], centroids[:,1], s = 300, marker = 'x', c = 'k')\n",
        "plt.xlabel('petal length (cm)')\n",
        "plt.ylabel('petal width (cm)');\n",
        "plt.title('K-Means Clustering (k = 3)')\n",
        " \n",
        "plt.subplot(1, 2, 2)\n",
        "plt.scatter(X['PetalLengthCm'], X['PetalWidthCm'], c=colormap[y], s=40)\n",
        "plt.xlabel('petal length (cm)')\n",
        "plt.ylabel('petal width (cm)');\n",
        "plt.title('Flower Species')\n",
        "\n",
        "\n",
        "plt.tight_layout()"
      ],
      "id": "loving-workshop",
      "execution_count": null,
      "outputs": [
        {
          "output_type": "display_data",
          "data": {
            "image/png": "[encoded data removed]",
            "text/plain": [
              "<Figure size 720x288 with 2 Axes>"
            ]
          },
          "metadata": {
            "tags": [],
            "needs_background": "light"
          }
        }
      ]
    }
  ]
}